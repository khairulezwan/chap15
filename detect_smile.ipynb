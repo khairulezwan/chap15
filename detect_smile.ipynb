{
 "metadata": {
  "language_info": {
   "codemirror_mode": {
    "name": "ipython",
    "version": 3
   },
   "file_extension": ".py",
   "mimetype": "text/x-python",
   "name": "python",
   "nbconvert_exporter": "python",
   "pygments_lexer": "ipython3",
   "version": "3.7.7-final"
  },
  "orig_nbformat": 2,
  "kernelspec": {
   "name": "python37764bitbasecondabe15f5c191f44ef5875f848b4f50fd12",
   "display_name": "Python 3.7.7 64-bit ('base': conda)"
  }
 },
 "nbformat": 4,
 "nbformat_minor": 2,
 "cells": [
  {
   "cell_type": "code",
   "execution_count": 1,
   "metadata": {},
   "outputs": [],
   "source": [
    "# import the necessary packages\n",
    "from tensorflow.keras.preprocessing.image import img_to_array\n",
    "from tensorflow.keras.models import load_model\n",
    "import imutils\n",
    "import numpy as np\n",
    "import cv2"
   ]
  },
  {
   "cell_type": "code",
   "execution_count": 2,
   "metadata": {},
   "outputs": [],
   "source": [
    "args = {\n",
    "    'cascade': 'haarcascade_frontalface_default.xml',\n",
    "    'model' : 'output/lenet.hdf5',\n",
    "    'video' : '',\n",
    "}"
   ]
  },
  {
   "cell_type": "code",
   "execution_count": 3,
   "metadata": {},
   "outputs": [],
   "source": [
    "# load the face detector cascade and smile detector CNN\n",
    "detector = cv2.CascadeClassifier(args[\"cascade\"])\n",
    "model = load_model(args[\"model\"])\n",
    "\n",
    "# if a video path was not supplied, grab the reference to the webcam\n",
    "if not args.get(\"video\", False):\n",
    "    camera = cv2.VideoCapture(0)\n",
    "\n",
    "# otherwise, load the video\n",
    "else:\n",
    "    camera = cv2.VideoCapture(args[\"video\"])\n",
    "# keep looping\n",
    "while True:\n",
    "# grab the current frame\n",
    "    (grabbed, frame) = camera.read()\n",
    "\n",
    "    # if we are viewing a video and we did not grab a frame, then we\n",
    "    # have reached the end of the video\n",
    "    if args.get(\"video\") and not grabbed:\n",
    "        break\n",
    "\n",
    "    # resize the frame, convert it to grayscale, and then clone the\n",
    "    # original frame so we can draw on it later in the program\n",
    "    frame = imutils.resize(frame, width=300)\n",
    "    gray = cv2.cvtColor(frame, cv2.COLOR_BGR2GRAY)\n",
    "    frameClone = frame.copy()\n",
    "\n",
    "    #detect faces in the input frame, then clone the frame so that\n",
    "    # we can draw on it\n",
    "    rects = detector.detectMultiScale(gray, scaleFactor=1.1,\n",
    "    minNeighbors=5, minSize=(30, 30),\n",
    "    flags=cv2.CASCADE_SCALE_IMAGE)\n",
    "\n",
    "        # detect faces in the input frame, then clone the frame so that\n",
    "    # we can draw on it\n",
    "    rects = detector.detectMultiScale(gray, scaleFactor=1.1,\n",
    "    minNeighbors=5, minSize=(30, 30),\n",
    "    flags=cv2.CASCADE_SCALE_IMAGE)\n",
    "\n",
    "    # loop over the face bounding boxes\n",
    "    for (fX, fY, fW, fH) in rects:\n",
    "        # extract the ROI of the face from the grayscale image,\n",
    "        # resize it to a fixed 28x28 pixels, and then prepare the\n",
    "        # ROI for classification via the CNN\n",
    "        roi = gray[fY:fY + fH, fX:fX + fW]\n",
    "        roi = cv2.resize(roi, (28, 28))\n",
    "        roi = roi.astype(\"float\") / 255.0\n",
    "        roi = img_to_array(roi)\n",
    "        roi = np.expand_dims(roi, axis=0)\n",
    "            # determine the probabilities of both \"smiling\" and \"not\n",
    "        # smiling\", then set the label accordingly\n",
    "        (notSmiling, smiling) = model.predict(roi)[0]\n",
    "        label = \"Smiling\" if smiling > notSmiling else \"Not Smiling\"\n",
    "        # display the label and bounding box rectangle on the output\n",
    "        # frame\n",
    "        cv2.putText(frameClone, label, (fX, fY - 10),\n",
    "        cv2.FONT_HERSHEY_SIMPLEX, 0.45, (0, 0, 255), 2)\n",
    "        cv2.rectangle(frameClone, (fX, fY), (fX + fW, fY + fH),\n",
    "        (0, 0, 255), 2)\n",
    "    # show our detected faces along with smiling/not smiling labels\n",
    "    cv2.imshow(\"Face\", frameClone)\n",
    "\n",
    "    # if the 'q' key is pressed, stop the loop\n",
    "    if cv2.waitKey(1) & 0xFF == ord(\"q\"):\n",
    "        break\n",
    "\n",
    "# cleanup the camera and close any open windows\n",
    "camera.release()\n",
    "cv2.destroyAllWindows()"
   ]
  }
 ]
}