{
 "cells": [
  {
   "cell_type": "code",
   "execution_count": 1,
   "metadata": {},
   "outputs": [],
   "source": [
    "# import packages\n",
    "from sklearn.preprocessing import LabelEncoder\n",
    "from sklearn.model_selection import train_test_split\n",
    "from sklearn.metrics import classification_report\n",
    "from tensorflow.keras.preprocessing.image import img_to_array\n",
    "from tensorflow.keras.utils import to_categorical\n",
    "from pyimagesearch.nn.conv import LeNet\n",
    "from imutils import paths\n",
    "import matplotlib.pyplot as plt\n",
    "import numpy as np\n",
    "import imutils\n",
    "import cv2\n",
    "import os"
   ]
  },
  {
   "cell_type": "code",
   "execution_count": 2,
   "metadata": {},
   "outputs": [],
   "source": [
    "args = {\n",
    "    'dataset' : '/floyd/input/smile_datasets',\n",
    "    'model' : 'output/lenet.hdf5',\n",
    "}\n",
    "\n",
    "# intialize the list of data and labels\n",
    "data = []\n",
    "labels = []"
   ]
  },
  {
   "cell_type": "code",
   "execution_count": 3,
   "metadata": {},
   "outputs": [],
   "source": [
    "# loop over the input iamges\n",
    "for imagePath in sorted(list(paths.list_images(args['dataset']))):\n",
    "    # load the image, pre-process it and store in the data list\n",
    "    image = cv2.imread(imagePath)\n",
    "    image = cv2.cvtColor(image, cv2.COLOR_BGR2GRAY)\n",
    "    image = imutils.resize(image, width=28)\n",
    "    image = img_to_array(image)\n",
    "    data.append(image)\n",
    "    \n",
    "\n",
    "    #asdasds\n",
    "    #extract the class labels from the image path and update \n",
    "    # the label first\n",
    "    label = imagePath.split(os.path.sep)[-3]\n",
    "    label = \"smiling\" if label == \"positives\" else \"not_smiling\"\n",
    "    labels.append(label)"
   ]
  },
  {
   "cell_type": "code",
   "execution_count": 4,
   "metadata": {},
   "outputs": [],
   "source": [
    "\n",
    "# scale the raw pixel intensities to the range [0, 1]\n",
    "data = np.array(data, dtype=\"float\") / 255.0\n",
    "labels = np.array(labels)\n",
    "\n",
    "# convert the labels from integers to vectors\n",
    "le = LabelEncoder().fit(labels)\n",
    "labels = to_categorical(le.transform(labels), 2)"
   ]
  },
  {
   "cell_type": "code",
   "execution_count": 5,
   "metadata": {},
   "outputs": [],
   "source": [
    "# account for skew in the labeled data\n",
    "classTotals = labels.sum(axis=0)\n",
    "classWeight = classTotals.max() / classTotals"
   ]
  },
  {
   "cell_type": "code",
   "execution_count": 6,
   "metadata": {},
   "outputs": [],
   "source": [
    "# partition the data into training and testing splits using 80% of\n",
    "# the data for training and the remaining 20% for testing\n",
    "(trainX, testX, trainY, testY) = train_test_split(data,\n",
    "labels, test_size=0.20, stratify=labels, random_state=42)"
   ]
  },
  {
   "cell_type": "code",
   "execution_count": 7,
   "metadata": {},
   "outputs": [
    {
     "name": "stdout",
     "output_type": "stream",
     "text": [
      "[INFO] compiling model...\n",
      "[INFO] training network...\n",
      "Train on 10532 samples, validate on 2633 samples\n",
      "Epoch 1/15\n",
      "10532/10532 [==============================] - 21s 2ms/sample - loss: 0.4634 - accuracy: 0.7828 - val_loss: 0.3440 - val_accuracy: 0.8534\n",
      "Epoch 2/15\n",
      "10532/10532 [==============================] - 16s 2ms/sample - loss: 0.3046 - accuracy: 0.8741 - val_loss: 0.2891 - val_accuracy: 0.8895\n",
      "Epoch 3/15\n",
      "10532/10532 [==============================] - 16s 2ms/sample - loss: 0.2680 - accuracy: 0.8936 - val_loss: 0.2624 - val_accuracy: 0.8986\n",
      "Epoch 4/15\n",
      "10532/10532 [==============================] - 16s 2ms/sample - loss: 0.2481 - accuracy: 0.9006 - val_loss: 0.2505 - val_accuracy: 0.9047\n",
      "Epoch 5/15\n",
      "10532/10532 [==============================] - 16s 2ms/sample - loss: 0.2347 - accuracy: 0.9063 - val_loss: 0.2602 - val_accuracy: 0.9016\n",
      "Epoch 6/15\n",
      "10532/10532 [==============================] - 17s 2ms/sample - loss: 0.2220 - accuracy: 0.9122 - val_loss: 0.2375 - val_accuracy: 0.9104\n",
      "Epoch 7/15\n",
      "10532/10532 [==============================] - 16s 2ms/sample - loss: 0.2128 - accuracy: 0.9184 - val_loss: 0.2355 - val_accuracy: 0.9096\n",
      "Epoch 8/15\n",
      "10532/10532 [==============================] - 16s 2ms/sample - loss: 0.2053 - accuracy: 0.9200 - val_loss: 0.2389 - val_accuracy: 0.9081\n",
      "Epoch 9/15\n",
      "10532/10532 [==============================] - 16s 2ms/sample - loss: 0.2029 - accuracy: 0.9246 - val_loss: 0.2327 - val_accuracy: 0.9145\n",
      "Epoch 10/15\n",
      "10532/10532 [==============================] - 16s 2ms/sample - loss: 0.1924 - accuracy: 0.9286 - val_loss: 0.2475 - val_accuracy: 0.8963\n",
      "Epoch 11/15\n",
      "10532/10532 [==============================] - 16s 2ms/sample - loss: 0.1870 - accuracy: 0.9271 - val_loss: 0.2288 - val_accuracy: 0.9134\n",
      "Epoch 12/15\n",
      "10532/10532 [==============================] - 16s 2ms/sample - loss: 0.1751 - accuracy: 0.9333 - val_loss: 0.2343 - val_accuracy: 0.9066\n",
      "Epoch 13/15\n",
      "10532/10532 [==============================] - 16s 2ms/sample - loss: 0.1711 - accuracy: 0.9368 - val_loss: 0.2341 - val_accuracy: 0.9145\n",
      "Epoch 14/15\n",
      "10532/10532 [==============================] - 16s 2ms/sample - loss: 0.1638 - accuracy: 0.9373 - val_loss: 0.2381 - val_accuracy: 0.9115\n",
      "Epoch 15/15\n",
      "10532/10532 [==============================] - 16s 2ms/sample - loss: 0.1529 - accuracy: 0.9406 - val_loss: 0.2518 - val_accuracy: 0.9028\n"
     ]
    }
   ],
   "source": [
    "# initialize the model\n",
    "print(\"[INFO] compiling model...\")\n",
    "model = LeNet.build(width=28, height=28, depth=1, classes=2)\n",
    "model.compile(loss=\"binary_crossentropy\", optimizer=\"adam\",\n",
    "metrics=[\"accuracy\"])\n",
    "\n",
    "# train the network\n",
    "print(\"[INFO] training network...\")\n",
    "H = model.fit(trainX, trainY, validation_data=(testX, testY),\n",
    "class_weight=classWeight, batch_size=64, epochs=15, verbose=1)"
   ]
  },
  {
   "cell_type": "code",
   "execution_count": 8,
   "metadata": {},
   "outputs": [
    {
     "name": "stdout",
     "output_type": "stream",
     "text": [
      "[INFO] evaluating network...\n",
      "              precision    recall  f1-score   support\n",
      "\n",
      " not_smiling       0.94      0.93      0.93      1895\n",
      "     smiling       0.82      0.84      0.83       738\n",
      "\n",
      "    accuracy                           0.90      2633\n",
      "   macro avg       0.88      0.88      0.88      2633\n",
      "weighted avg       0.90      0.90      0.90      2633\n",
      "\n",
      "[INFO] serializing network...\n"
     ]
    }
   ],
   "source": [
    "# evaluate the network\n",
    "print(\"[INFO] evaluating network...\")\n",
    "predictions = model.predict(testX, batch_size=64)\n",
    "print(classification_report(testY.argmax(axis=1),\n",
    "predictions.argmax(axis=1), target_names=le.classes_))\n",
    "\n",
    "# save the model to disk\n",
    "print(\"[INFO] serializing network...\")\n",
    "model.save(args[\"model\"])"
   ]
  },
  {
   "cell_type": "code",
   "execution_count": 9,
   "metadata": {},
   "outputs": [
    {
     "data": {
      "image/png": "[encoded data removed]",
      "text/plain": [
       "<Figure size 432x288 with 1 Axes>"
      ]
     },
     "metadata": {},
     "output_type": "display_data"
    }
   ],
   "source": [
    "# plot the training + testing loss and accuracy\n",
    "plt.style.use(\"ggplot\")\n",
    "plt.figure()\n",
    "plt.plot(np.arange(0, 15), H.history[\"loss\"], label=\"train_loss\")\n",
    "plt.plot(np.arange(0, 15), H.history[\"val_loss\"], label=\"val_loss\")\n",
    "plt.plot(np.arange(0, 15), H.history[\"accuracy\"], label=\"acc\")\n",
    "plt.plot(np.arange(0, 15), H.history[\"val_accuracy\"], label=\"val_acc\")\n",
    "plt.title(\"Training Loss and Accuracy\")\n",
    "plt.xlabel(\"Epoch #\")\n",
    "plt.ylabel(\"Loss/Accuracy\")\n",
    "plt.legend()\n",
    "plt.show()"
   ]
  }
 ],
 "metadata": {
  "kernelspec": {
   "display_name": "Python 3",
   "language": "python",
   "name": "python3"
  },
  "language_info": {
   "codemirror_mode": {
    "name": "ipython",
    "version": 3
   },
   "file_extension": ".py",
   "mimetype": "text/x-python",
   "name": "python",
   "nbconvert_exporter": "python",
   "pygments_lexer": "ipython3",
   "version": "3.6.9"
  }
 },
 "nbformat": 4,
 "nbformat_minor": 4
}
