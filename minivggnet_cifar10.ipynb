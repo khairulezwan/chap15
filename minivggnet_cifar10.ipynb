{
 "cells": [
  {
   "cell_type": "code",
   "execution_count": 6,
   "metadata": {},
   "outputs": [],
   "source": [
    "import matplotlib\n",
    "matplotlib.use('Agg')\n",
    "\n",
    "from sklearn.preprocessing import LabelBinarizer\n",
    "from sklearn.metrics import classification_report\n",
    "from pyimagesearch.nn.conv import MiniVGGNet\n",
    "from tensorflow.keras.optimizers import SGD\n",
    "from tensorflow.keras.datasets import cifar10\n",
    "import matplotlib.pyplot as plt \n",
    "import numpy as np \n",
    "\n",
    "args = {\n",
    "    'output' : 'cifar10_minivggnet_with_bn.png'\n",
    "}"
   ]
  },
  {
   "cell_type": "code",
   "execution_count": 7,
   "metadata": {},
   "outputs": [
    {
     "name": "stdout",
     "output_type": "stream",
     "text": [
      "[INFO] loading CIFAR-10 data...\n"
     ]
    }
   ],
   "source": [
    "# load the training and testing data, then scale it into the\n",
    "# range [0, 1]\n",
    "print(\"[INFO] loading CIFAR-10 data...\")\n",
    "((trainX, trainY), (testX, testY)) = cifar10.load_data()\n",
    "trainX = trainX.astype(\"float\") / 255.0\n",
    "testX = testX.astype('float') / 255.0\n",
    "\n",
    "# convert the labels from integers to vectors\n",
    "lb = LabelBinarizer()\n",
    "trainY = lb.fit_transform(trainY)\n",
    "testY = lb.transform(testY)\n",
    "\n",
    "# Initialize the label names for the cifar-10 datasets\n",
    "labelNames = [\"airplane\", \"automobile\", \"bird\", \"cat\", \"deer\",\n",
    "\"dog\", \"frog\", \"horse\", \"ship\", \"truck\"]"
   ]
  },
  {
   "cell_type": "code",
   "execution_count": 8,
   "metadata": {
    "tags": []
   },
   "outputs": [
    {
     "name": "stdout",
     "output_type": "stream",
     "text": [
      "[info] Compiling model...\n",
      "[INFO] training the network...\n",
      "Train on 50000 samples, validate on 10000 samples\n",
      "Epoch 1/40\n",
      "50000/50000 [==============================] - 17s 333us/sample - loss: 1.6449 - accuracy: 0.4481 - val_loss: 1.4582 - val_accuracy: 0.4953\n",
      "Epoch 2/40\n",
      "50000/50000 [==============================] - 15s 298us/sample - loss: 1.1852 - accuracy: 0.5879 - val_loss: 0.9766 - val_accuracy: 0.6544\n",
      "Epoch 3/40\n",
      "50000/50000 [==============================] - 15s 300us/sample - loss: 0.9884 - accuracy: 0.6535 - val_loss: 0.8697 - val_accuracy: 0.6968\n",
      "Epoch 4/40\n",
      "50000/50000 [==============================] - 15s 301us/sample - loss: 0.8873 - accuracy: 0.6914 - val_loss: 0.7868 - val_accuracy: 0.7237\n",
      "Epoch 5/40\n",
      "50000/50000 [==============================] - 15s 300us/sample - loss: 0.8041 - accuracy: 0.7184 - val_loss: 0.7162 - val_accuracy: 0.7485\n",
      "Epoch 6/40\n",
      "50000/50000 [==============================] - 15s 300us/sample - loss: 0.7389 - accuracy: 0.7387 - val_loss: 0.7534 - val_accuracy: 0.7347\n",
      "Epoch 7/40\n",
      "50000/50000 [==============================] - 15s 303us/sample - loss: 0.6967 - accuracy: 0.7554 - val_loss: 0.6894 - val_accuracy: 0.7554\n",
      "Epoch 8/40\n",
      "50000/50000 [==============================] - 15s 302us/sample - loss: 0.6502 - accuracy: 0.7706 - val_loss: 0.6449 - val_accuracy: 0.7798\n",
      "Epoch 9/40\n",
      "50000/50000 [==============================] - 15s 305us/sample - loss: 0.6211 - accuracy: 0.7811 - val_loss: 0.6276 - val_accuracy: 0.7813\n",
      "Epoch 10/40\n",
      "50000/50000 [==============================] - 15s 306us/sample - loss: 0.5913 - accuracy: 0.7908 - val_loss: 0.6420 - val_accuracy: 0.7802\n",
      "Epoch 11/40\n",
      "50000/50000 [==============================] - 15s 307us/sample - loss: 0.5673 - accuracy: 0.7988 - val_loss: 0.6119 - val_accuracy: 0.7877\n",
      "Epoch 12/40\n",
      "50000/50000 [==============================] - 15s 308us/sample - loss: 0.5359 - accuracy: 0.8114 - val_loss: 0.6066 - val_accuracy: 0.7891\n",
      "Epoch 13/40\n",
      "50000/50000 [==============================] - 16s 311us/sample - loss: 0.5180 - accuracy: 0.8171 - val_loss: 0.6087 - val_accuracy: 0.7881\n",
      "Epoch 14/40\n",
      "50000/50000 [==============================] - 16s 312us/sample - loss: 0.4952 - accuracy: 0.8231 - val_loss: 0.5927 - val_accuracy: 0.7947\n",
      "Epoch 15/40\n",
      "50000/50000 [==============================] - 16s 311us/sample - loss: 0.4795 - accuracy: 0.8298 - val_loss: 0.5925 - val_accuracy: 0.7948\n",
      "Epoch 16/40\n",
      "50000/50000 [==============================] - 16s 313us/sample - loss: 0.4589 - accuracy: 0.8379 - val_loss: 0.5863 - val_accuracy: 0.7996\n",
      "Epoch 17/40\n",
      "50000/50000 [==============================] - 15s 305us/sample - loss: 0.4468 - accuracy: 0.8404 - val_loss: 0.5885 - val_accuracy: 0.8019\n",
      "Epoch 18/40\n",
      "50000/50000 [==============================] - 15s 304us/sample - loss: 0.4312 - accuracy: 0.8475 - val_loss: 0.5652 - val_accuracy: 0.8073\n",
      "Epoch 19/40\n",
      "50000/50000 [==============================] - 15s 299us/sample - loss: 0.4172 - accuracy: 0.8511 - val_loss: 0.6111 - val_accuracy: 0.7963\n",
      "Epoch 20/40\n",
      "50000/50000 [==============================] - 15s 300us/sample - loss: 0.4134 - accuracy: 0.8531 - val_loss: 0.5691 - val_accuracy: 0.8103\n",
      "Epoch 21/40\n",
      "50000/50000 [==============================] - 15s 298us/sample - loss: 0.3946 - accuracy: 0.8597 - val_loss: 0.5588 - val_accuracy: 0.8117\n",
      "Epoch 22/40\n",
      "50000/50000 [==============================] - 15s 299us/sample - loss: 0.3842 - accuracy: 0.8617 - val_loss: 0.6002 - val_accuracy: 0.8007\n",
      "Epoch 23/40\n",
      "50000/50000 [==============================] - 15s 305us/sample - loss: 0.3717 - accuracy: 0.8681 - val_loss: 0.5701 - val_accuracy: 0.8081\n",
      "Epoch 24/40\n",
      "50000/50000 [==============================] - 15s 305us/sample - loss: 0.3665 - accuracy: 0.8667 - val_loss: 0.5536 - val_accuracy: 0.8131\n",
      "Epoch 25/40\n",
      "50000/50000 [==============================] - 15s 300us/sample - loss: 0.3593 - accuracy: 0.8707 - val_loss: 0.5530 - val_accuracy: 0.8150\n",
      "Epoch 26/40\n",
      "50000/50000 [==============================] - 15s 299us/sample - loss: 0.3448 - accuracy: 0.8751 - val_loss: 0.5552 - val_accuracy: 0.8140\n",
      "Epoch 27/40\n",
      "50000/50000 [==============================] - 15s 299us/sample - loss: 0.3388 - accuracy: 0.8784 - val_loss: 0.5655 - val_accuracy: 0.8144\n",
      "Epoch 28/40\n",
      "50000/50000 [==============================] - 15s 299us/sample - loss: 0.3291 - accuracy: 0.8831 - val_loss: 0.5590 - val_accuracy: 0.8155\n",
      "Epoch 29/40\n",
      "50000/50000 [==============================] - 15s 307us/sample - loss: 0.3260 - accuracy: 0.8835 - val_loss: 0.5540 - val_accuracy: 0.8156\n",
      "Epoch 30/40\n",
      "50000/50000 [==============================] - 15s 304us/sample - loss: 0.3090 - accuracy: 0.8881 - val_loss: 0.5537 - val_accuracy: 0.8151\n",
      "Epoch 31/40\n",
      "50000/50000 [==============================] - 15s 301us/sample - loss: 0.3122 - accuracy: 0.8869 - val_loss: 0.5479 - val_accuracy: 0.8169\n",
      "Epoch 32/40\n",
      "50000/50000 [==============================] - 15s 300us/sample - loss: 0.2993 - accuracy: 0.8941 - val_loss: 0.5486 - val_accuracy: 0.8186\n",
      "Epoch 33/40\n",
      "50000/50000 [==============================] - 15s 301us/sample - loss: 0.2907 - accuracy: 0.8958 - val_loss: 0.5510 - val_accuracy: 0.8187\n",
      "Epoch 34/40\n",
      "50000/50000 [==============================] - 15s 299us/sample - loss: 0.2846 - accuracy: 0.8982 - val_loss: 0.5590 - val_accuracy: 0.8198\n",
      "Epoch 35/40\n",
      "50000/50000 [==============================] - 15s 303us/sample - loss: 0.2829 - accuracy: 0.8994 - val_loss: 0.5553 - val_accuracy: 0.8216\n",
      "Epoch 36/40\n",
      "50000/50000 [==============================] - 15s 303us/sample - loss: 0.2796 - accuracy: 0.9004 - val_loss: 0.5571 - val_accuracy: 0.8179\n",
      "Epoch 37/40\n",
      "50000/50000 [==============================] - 15s 300us/sample - loss: 0.2747 - accuracy: 0.9008 - val_loss: 0.5630 - val_accuracy: 0.8150\n",
      "Epoch 38/40\n",
      "50000/50000 [==============================] - 15s 299us/sample - loss: 0.2710 - accuracy: 0.9035 - val_loss: 0.5695 - val_accuracy: 0.8210\n",
      "Epoch 39/40\n",
      "50000/50000 [==============================] - 15s 301us/sample - loss: 0.2673 - accuracy: 0.9032 - val_loss: 0.5629 - val_accuracy: 0.8195\n",
      "Epoch 40/40\n",
      "50000/50000 [==============================] - 15s 303us/sample - loss: 0.2621 - accuracy: 0.9062 - val_loss: 0.5735 - val_accuracy: 0.8157\n"
     ]
    }
   ],
   "source": [
    "# initialize the optimizer and model\n",
    "print(\"[info] Compiling model...\")\n",
    "opt = SGD(lr=0.01, decay=0.01 / 40, momentum=0.9, nesterov=True)\n",
    "model = MiniVGGNet.build(width=32, height=32, depth=3, classes=10)\n",
    "model.compile(loss='categorical_crossentropy', optimizer=opt, metrics=['accuracy'])\n",
    "\n",
    "# train the network\n",
    "print(\"[INFO] training the network...\")\n",
    "H = model.fit(trainX, trainY, validation_data=(testX, testY), batch_size=64, epochs=40, verbose=1)"
   ]
  },
  {
   "cell_type": "code",
   "execution_count": 9,
   "metadata": {},
   "outputs": [
    {
     "name": "stdout",
     "output_type": "stream",
     "text": [
      "[Info] evaluating the network...\n",
      "              precision    recall  f1-score   support\n",
      "\n",
      "    airplane       0.88      0.78      0.83      1000\n",
      "  automobile       0.92      0.89      0.91      1000\n",
      "        bird       0.78      0.69      0.73      1000\n",
      "         cat       0.68      0.63      0.65      1000\n",
      "        deer       0.73      0.84      0.78      1000\n",
      "         dog       0.73      0.75      0.74      1000\n",
      "        frog       0.79      0.90      0.85      1000\n",
      "       horse       0.90      0.84      0.87      1000\n",
      "        ship       0.88      0.91      0.90      1000\n",
      "       truck       0.87      0.91      0.89      1000\n",
      "\n",
      "    accuracy                           0.82     10000\n",
      "   macro avg       0.82      0.82      0.81     10000\n",
      "weighted avg       0.82      0.82      0.81     10000\n",
      "\n"
     ]
    }
   ],
   "source": [
    "# evaluate the network\n",
    "print(\"[Info] evaluating the network...\")\n",
    "predictions = model.predict(testX, batch_size=64)\n",
    "print(classification_report(testY.argmax(axis=1),\n",
    "predictions.argmax(axis=1), target_names=labelNames))"
   ]
  },
  {
   "cell_type": "code",
   "execution_count": 10,
   "metadata": {},
   "outputs": [],
   "source": [
    "# plot the training loss and accuracy\n",
    "plt.style.use(\"ggplot\")\n",
    "plt.figure()\n",
    "plt.plot(np.arange(0, 40), H.history[\"loss\"], label=\"train_loss\")\n",
    "plt.plot(np.arange(0, 40), H.history[\"val_loss\"], label=\"val_loss\")\n",
    "plt.plot(np.arange(0, 40), H.history[\"accuracy\"], label=\"train_acc\")\n",
    "plt.plot(np.arange(0, 40), H.history[\"val_accuracy\"], label=\"val_acc\")\n",
    "plt.title(\"Training Loss and Accuracy on CIFAR-10\")\n",
    "plt.xlabel(\"Epoch #\")\n",
    "plt.ylabel(\"Loss/Accuracy\")\n",
    "plt.legend()\n",
    "plt.savefig(args[\"output\"])"
   ]
  }
 ],
 "metadata": {
  "kernelspec": {
   "display_name": "Python 3",
   "language": "python",
   "name": "python3"
  },
  "language_info": {
   "codemirror_mode": {
    "name": "ipython",
    "version": 3
   },
   "file_extension": ".py",
   "mimetype": "text/x-python",
   "name": "python",
   "nbconvert_exporter": "python",
   "pygments_lexer": "ipython3",
   "version": "3.6.9"
  }
 },
 "nbformat": 4,
 "nbformat_minor": 4
}
