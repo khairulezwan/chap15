{
 "cells": [
  {
   "cell_type": "code",
   "execution_count": 1,
   "metadata": {},
   "outputs": [],
   "source": [
    "# set the matplotlib backend so figures can be saved in the background\n",
    "import matplotlib\n",
    "matplotlib.use('Agg')\n",
    "\n",
    "# import package\n",
    "from sklearn.preprocessing import LabelBinarizer\n",
    "from sklearn.metrics import classification_report\n",
    "from pyimagesearch.nn.conv import MiniVGGNet\n",
    "from tensorflow.keras.callbacks import LearningRateScheduler\n",
    "from tensorflow.keras.optimizers import SGD\n",
    "from tensorflow.keras.datasets import cifar10\n",
    "import matplotlib.pyplot as plt \n",
    "import numpy as np "
   ]
  },
  {
   "cell_type": "code",
   "execution_count": 2,
   "metadata": {},
   "outputs": [],
   "source": [
    "def step_decay(epoch):\n",
    "    # init the base learning rate, drop factor and epoch to drop\n",
    "    initAlpha = 0.01\n",
    "    factor = 0.5\n",
    "    dropEvery = 5\n",
    "\n",
    "    # compute learning rate for the current epoch\n",
    "    alpha = initAlpha * (factor ** np.floor((1 + epoch) / dropEvery))\n",
    "\n",
    "    return float(alpha)"
   ]
  },
  {
   "cell_type": "code",
   "execution_count": 3,
   "metadata": {},
   "outputs": [
    {
     "name": "stdout",
     "output_type": "stream",
     "text": [
      "[INFO] loading CIFAR-10 data...\n"
     ]
    }
   ],
   "source": [
    "args = {\n",
    "    'output' : 'output/lr_decay_f0.5_plot.png'\n",
    "}\n",
    "\n",
    "print(\"[INFO] loading CIFAR-10 data...\")\n",
    "((trainX, trainY), (testX, testY)) = cifar10.load_data()\n",
    "trainX = trainX.astype('float') / 255.0\n",
    "testX = testX.astype('float') / 255.0\n",
    "\n",
    "# convert the labels from integers to vectors\n",
    "lb = LabelBinarizer()\n",
    "trainY = lb.fit_transform(trainY)\n",
    "testY = lb.transform(testY)\n",
    "\n",
    "# initialzie the label names\n",
    "labelNames = [\"airplane\", \"automobile\", \"bird\", \"cat\", \"deer\",\n",
    "\"dog\", \"frog\", \"horse\", \"ship\", \"truck\"]"
   ]
  },
  {
   "cell_type": "code",
   "execution_count": 4,
   "metadata": {},
   "outputs": [
    {
     "name": "stdout",
     "output_type": "stream",
     "text": [
      "Train on 50000 samples, validate on 10000 samples\n",
      "Epoch 1/40\n",
      "50000/50000 [==============================] - 18s 360us/sample - loss: 1.6751 - accuracy: 0.4472 - val_loss: 1.2250 - val_accuracy: 0.5742\n",
      "Epoch 2/40\n",
      "50000/50000 [==============================] - 15s 299us/sample - loss: 1.1807 - accuracy: 0.5962 - val_loss: 1.0848 - val_accuracy: 0.6231\n",
      "Epoch 3/40\n",
      "50000/50000 [==============================] - 15s 299us/sample - loss: 0.9837 - accuracy: 0.6600 - val_loss: 0.8537 - val_accuracy: 0.7030\n",
      "Epoch 4/40\n",
      "50000/50000 [==============================] - 15s 299us/sample - loss: 0.8711 - accuracy: 0.6966 - val_loss: 0.8150 - val_accuracy: 0.7214\n",
      "Epoch 5/40\n",
      "50000/50000 [==============================] - 15s 299us/sample - loss: 0.7414 - accuracy: 0.7404 - val_loss: 0.6942 - val_accuracy: 0.7551\n",
      "Epoch 6/40\n",
      "50000/50000 [==============================] - 15s 299us/sample - loss: 0.6826 - accuracy: 0.7601 - val_loss: 0.6877 - val_accuracy: 0.7603\n",
      "Epoch 7/40\n",
      "50000/50000 [==============================] - 15s 300us/sample - loss: 0.6471 - accuracy: 0.7718 - val_loss: 0.6726 - val_accuracy: 0.7708\n",
      "Epoch 8/40\n",
      "50000/50000 [==============================] - 15s 301us/sample - loss: 0.6194 - accuracy: 0.7806 - val_loss: 0.6475 - val_accuracy: 0.7783\n",
      "Epoch 9/40\n",
      "50000/50000 [==============================] - 15s 302us/sample - loss: 0.5866 - accuracy: 0.7918 - val_loss: 0.6174 - val_accuracy: 0.7913\n",
      "Epoch 10/40\n",
      "50000/50000 [==============================] - 15s 301us/sample - loss: 0.5355 - accuracy: 0.8099 - val_loss: 0.6029 - val_accuracy: 0.7966\n",
      "Epoch 11/40\n",
      "50000/50000 [==============================] - 15s 302us/sample - loss: 0.5127 - accuracy: 0.8183 - val_loss: 0.5747 - val_accuracy: 0.8054\n",
      "Epoch 12/40\n",
      "50000/50000 [==============================] - 15s 300us/sample - loss: 0.4968 - accuracy: 0.8252 - val_loss: 0.6059 - val_accuracy: 0.7957\n",
      "Epoch 13/40\n",
      "50000/50000 [==============================] - 15s 300us/sample - loss: 0.4800 - accuracy: 0.8290 - val_loss: 0.5763 - val_accuracy: 0.8048\n",
      "Epoch 14/40\n",
      "50000/50000 [==============================] - 15s 300us/sample - loss: 0.4697 - accuracy: 0.8333 - val_loss: 0.5660 - val_accuracy: 0.8123\n",
      "Epoch 15/40\n",
      "50000/50000 [==============================] - 15s 300us/sample - loss: 0.4433 - accuracy: 0.8436 - val_loss: 0.5702 - val_accuracy: 0.8121\n",
      "Epoch 16/40\n",
      "50000/50000 [==============================] - 15s 300us/sample - loss: 0.4346 - accuracy: 0.8452 - val_loss: 0.5485 - val_accuracy: 0.8173\n",
      "Epoch 17/40\n",
      "50000/50000 [==============================] - 15s 299us/sample - loss: 0.4246 - accuracy: 0.8502 - val_loss: 0.5543 - val_accuracy: 0.8183\n",
      "Epoch 18/40\n",
      "50000/50000 [==============================] - 15s 300us/sample - loss: 0.4159 - accuracy: 0.8519 - val_loss: 0.5634 - val_accuracy: 0.8143\n",
      "Epoch 19/40\n",
      "50000/50000 [==============================] - 15s 299us/sample - loss: 0.4110 - accuracy: 0.8536 - val_loss: 0.5579 - val_accuracy: 0.8192\n",
      "Epoch 20/40\n",
      "50000/50000 [==============================] - 15s 301us/sample - loss: 0.3945 - accuracy: 0.8606 - val_loss: 0.5559 - val_accuracy: 0.8191\n",
      "Epoch 21/40\n",
      "50000/50000 [==============================] - 15s 300us/sample - loss: 0.3893 - accuracy: 0.8609 - val_loss: 0.5547 - val_accuracy: 0.8198\n",
      "Epoch 22/40\n",
      "50000/50000 [==============================] - 15s 300us/sample - loss: 0.3879 - accuracy: 0.8619 - val_loss: 0.5452 - val_accuracy: 0.8212\n",
      "Epoch 23/40\n",
      "50000/50000 [==============================] - 15s 299us/sample - loss: 0.3831 - accuracy: 0.8646 - val_loss: 0.5470 - val_accuracy: 0.8221\n",
      "Epoch 24/40\n",
      "50000/50000 [==============================] - 15s 300us/sample - loss: 0.3790 - accuracy: 0.8648 - val_loss: 0.5481 - val_accuracy: 0.8233\n",
      "Epoch 25/40\n",
      "50000/50000 [==============================] - 15s 300us/sample - loss: 0.3717 - accuracy: 0.8688 - val_loss: 0.5455 - val_accuracy: 0.8215\n",
      "Epoch 26/40\n",
      "50000/50000 [==============================] - 15s 301us/sample - loss: 0.3677 - accuracy: 0.8688 - val_loss: 0.5421 - val_accuracy: 0.8236\n",
      "Epoch 27/40\n",
      "50000/50000 [==============================] - 15s 301us/sample - loss: 0.3711 - accuracy: 0.8664 - val_loss: 0.5424 - val_accuracy: 0.8217\n",
      "Epoch 28/40\n",
      "50000/50000 [==============================] - 15s 300us/sample - loss: 0.3621 - accuracy: 0.8715 - val_loss: 0.5450 - val_accuracy: 0.8206\n",
      "Epoch 29/40\n",
      "50000/50000 [==============================] - 15s 300us/sample - loss: 0.3643 - accuracy: 0.8716 - val_loss: 0.5410 - val_accuracy: 0.8236\n",
      "Epoch 30/40\n",
      "50000/50000 [==============================] - 15s 302us/sample - loss: 0.3619 - accuracy: 0.8719 - val_loss: 0.5406 - val_accuracy: 0.8244\n",
      "Epoch 31/40\n",
      "50000/50000 [==============================] - 15s 302us/sample - loss: 0.3588 - accuracy: 0.8717 - val_loss: 0.5423 - val_accuracy: 0.8243\n",
      "Epoch 32/40\n",
      "50000/50000 [==============================] - 15s 300us/sample - loss: 0.3548 - accuracy: 0.8711 - val_loss: 0.5453 - val_accuracy: 0.8227\n",
      "Epoch 33/40\n",
      "50000/50000 [==============================] - 15s 300us/sample - loss: 0.3569 - accuracy: 0.8725 - val_loss: 0.5424 - val_accuracy: 0.8235\n",
      "Epoch 34/40\n",
      "50000/50000 [==============================] - 15s 301us/sample - loss: 0.3558 - accuracy: 0.8748 - val_loss: 0.5415 - val_accuracy: 0.8237\n",
      "Epoch 35/40\n",
      "50000/50000 [==============================] - 15s 302us/sample - loss: 0.3569 - accuracy: 0.8730 - val_loss: 0.5427 - val_accuracy: 0.8241\n",
      "Epoch 36/40\n",
      "50000/50000 [==============================] - 15s 301us/sample - loss: 0.3599 - accuracy: 0.8723 - val_loss: 0.5425 - val_accuracy: 0.8235\n",
      "Epoch 37/40\n",
      "50000/50000 [==============================] - 15s 300us/sample - loss: 0.3519 - accuracy: 0.8739 - val_loss: 0.5444 - val_accuracy: 0.8226\n",
      "Epoch 38/40\n",
      "50000/50000 [==============================] - 15s 300us/sample - loss: 0.3503 - accuracy: 0.8747 - val_loss: 0.5427 - val_accuracy: 0.8230\n",
      "Epoch 39/40\n",
      "50000/50000 [==============================] - 15s 300us/sample - loss: 0.3512 - accuracy: 0.8757 - val_loss: 0.5445 - val_accuracy: 0.8234\n",
      "Epoch 40/40\n",
      "50000/50000 [==============================] - 15s 300us/sample - loss: 0.3500 - accuracy: 0.8763 - val_loss: 0.5422 - val_accuracy: 0.8228\n"
     ]
    }
   ],
   "source": [
    "# define the set of callbacks to be passed to the modesl during training\n",
    "callbacks = [LearningRateScheduler(step_decay)]\n",
    "\n",
    "# init the optimizer and model\n",
    "opt = SGD(lr=0.01, momentum=0.9, nesterov=True)\n",
    "model = MiniVGGNet.build(width=32, height=32, depth=3, classes=10)\n",
    "model.compile(loss='categorical_crossentropy', optimizer=opt, metrics=['accuracy'])\n",
    "\n",
    "# train the network\n",
    "H = model.fit(trainX, trainY, validation_data=(testX, testY), \n",
    "              batch_size=64, epochs=40, callbacks=callbacks, verbose=1)"
   ]
  },
  {
   "cell_type": "code",
   "execution_count": 5,
   "metadata": {},
   "outputs": [
    {
     "name": "stdout",
     "output_type": "stream",
     "text": [
      "[info] evaluating the network..\n",
      "              precision    recall  f1-score   support\n",
      "\n",
      "    airplane       0.86      0.85      0.85      1000\n",
      "  automobile       0.93      0.91      0.92      1000\n",
      "        bird       0.77      0.70      0.73      1000\n",
      "         cat       0.68      0.64      0.66      1000\n",
      "        deer       0.79      0.83      0.81      1000\n",
      "         dog       0.73      0.75      0.74      1000\n",
      "        frog       0.82      0.90      0.86      1000\n",
      "       horse       0.87      0.85      0.86      1000\n",
      "        ship       0.90      0.91      0.91      1000\n",
      "       truck       0.88      0.90      0.89      1000\n",
      "\n",
      "    accuracy                           0.82     10000\n",
      "   macro avg       0.82      0.82      0.82     10000\n",
      "weighted avg       0.82      0.82      0.82     10000\n",
      "\n"
     ]
    }
   ],
   "source": [
    "# evalute the network\n",
    "print(\"[info] evaluating the network..\")\n",
    "predictions = model.predict(testX, batch_size=64)\n",
    "print(classification_report(testY.argmax(axis=1), predictions.argmax(axis=1), target_names=labelNames))"
   ]
  },
  {
   "cell_type": "code",
   "execution_count": 6,
   "metadata": {},
   "outputs": [],
   "source": [
    "# plot the training loss and accuracy\n",
    "plt.style.use(\"ggplot\")\n",
    "plt.figure()\n",
    "plt.plot(np.arange(0, 40), H.history[\"loss\"], label=\"train_loss\")\n",
    "plt.plot(np.arange(0, 40), H.history[\"val_loss\"], label=\"val_loss\")\n",
    "plt.plot(np.arange(0, 40), H.history[\"accuracy\"], label=\"train_acc\")\n",
    "plt.plot(np.arange(0, 40), H.history[\"val_accuracy\"], label=\"val_acc\")\n",
    "plt.title(\"Training Loss and Accuracy on CIFAR-10\")\n",
    "plt.xlabel(\"Epoch #\")\n",
    "plt.ylabel(\"Loss/Accuracy\")\n",
    "plt.legend()\n",
    "plt.savefig(args[\"output\"])"
   ]
  }
 ],
 "metadata": {
  "kernelspec": {
   "display_name": "Python 3",
   "language": "python",
   "name": "python3"
  },
  "language_info": {
   "codemirror_mode": {
    "name": "ipython",
    "version": 3
   },
   "file_extension": ".py",
   "mimetype": "text/x-python",
   "name": "python",
   "nbconvert_exporter": "python",
   "pygments_lexer": "ipython3",
   "version": "3.6.9"
  }
 },
 "nbformat": 4,
 "nbformat_minor": 4
}
