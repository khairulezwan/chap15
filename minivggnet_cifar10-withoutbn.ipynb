{
 "cells": [
  {
   "cell_type": "code",
   "execution_count": 1,
   "metadata": {},
   "outputs": [],
   "source": [
    "import matplotlib\n",
    "matplotlib.use('Agg')\n",
    "\n",
    "from sklearn.preprocessing import LabelBinarizer\n",
    "from sklearn.metrics import classification_report\n",
    "from pyimagesearch.nn.conv import MiniVGGNet\n",
    "from tensorflow.keras.optimizers import SGD\n",
    "from tensorflow.keras.datasets import cifar10\n",
    "import matplotlib.pyplot as plt \n",
    "import numpy as np \n",
    "\n",
    "args = {\n",
    "    'output' : 'cifar10_minivggnet_without_bn.png'\n",
    "}"
   ]
  },
  {
   "cell_type": "code",
   "execution_count": 2,
   "metadata": {},
   "outputs": [
    {
     "name": "stdout",
     "output_type": "stream",
     "text": [
      "[INFO] loading CIFAR-10 data...\n"
     ]
    }
   ],
   "source": [
    "# load the training and testing data, then scale it into the\n",
    "# range [0, 1]\n",
    "print(\"[INFO] loading CIFAR-10 data...\")\n",
    "((trainX, trainY), (testX, testY)) = cifar10.load_data()\n",
    "trainX = trainX.astype(\"float\") / 255.0\n",
    "testX = testX.astype('float') / 255.0\n",
    "\n",
    "# convert the labels from integers to vectors\n",
    "lb = LabelBinarizer()\n",
    "trainY = lb.fit_transform(trainY)\n",
    "testY = lb.transform(testY)\n",
    "\n",
    "# Initialize the label names for the cifar-10 datasets\n",
    "labelNames = [\"airplane\", \"automobile\", \"bird\", \"cat\", \"deer\",\n",
    "\"dog\", \"frog\", \"horse\", \"ship\", \"truck\"]"
   ]
  },
  {
   "cell_type": "code",
   "execution_count": 3,
   "metadata": {
    "tags": []
   },
   "outputs": [
    {
     "name": "stdout",
     "output_type": "stream",
     "text": [
      "[info] Compiling model...\n",
      "[INFO] training the network...\n",
      "Train on 50000 samples, validate on 10000 samples\n",
      "Epoch 1/40\n",
      "50000/50000 [==============================] - 15s 296us/sample - loss: 1.7954 - accuracy: 0.3422 - val_loss: 1.4467 - val_accuracy: 0.4647\n",
      "Epoch 2/40\n",
      "50000/50000 [==============================] - 12s 247us/sample - loss: 1.3719 - accuracy: 0.5034 - val_loss: 1.2002 - val_accuracy: 0.5743\n",
      "Epoch 3/40\n",
      "50000/50000 [==============================] - 12s 247us/sample - loss: 1.1783 - accuracy: 0.5799 - val_loss: 1.0699 - val_accuracy: 0.6177\n",
      "Epoch 4/40\n",
      "50000/50000 [==============================] - 12s 247us/sample - loss: 1.0558 - accuracy: 0.6253 - val_loss: 0.9319 - val_accuracy: 0.6693\n",
      "Epoch 5/40\n",
      "50000/50000 [==============================] - 12s 247us/sample - loss: 0.9578 - accuracy: 0.6594 - val_loss: 0.8615 - val_accuracy: 0.6950\n",
      "Epoch 6/40\n",
      "50000/50000 [==============================] - 12s 247us/sample - loss: 0.8813 - accuracy: 0.6861 - val_loss: 0.8326 - val_accuracy: 0.7071\n",
      "Epoch 7/40\n",
      "50000/50000 [==============================] - 12s 248us/sample - loss: 0.8216 - accuracy: 0.7093 - val_loss: 0.7803 - val_accuracy: 0.7237\n",
      "Epoch 8/40\n",
      "50000/50000 [==============================] - 12s 248us/sample - loss: 0.7697 - accuracy: 0.7273 - val_loss: 0.7577 - val_accuracy: 0.7297\n",
      "Epoch 9/40\n",
      "50000/50000 [==============================] - 12s 248us/sample - loss: 0.7262 - accuracy: 0.7410 - val_loss: 0.7224 - val_accuracy: 0.7476\n",
      "Epoch 10/40\n",
      "50000/50000 [==============================] - 12s 248us/sample - loss: 0.6897 - accuracy: 0.7559 - val_loss: 0.6903 - val_accuracy: 0.7599\n",
      "Epoch 11/40\n",
      "50000/50000 [==============================] - 12s 248us/sample - loss: 0.6561 - accuracy: 0.7674 - val_loss: 0.6746 - val_accuracy: 0.7672\n",
      "Epoch 12/40\n",
      "50000/50000 [==============================] - 12s 248us/sample - loss: 0.6275 - accuracy: 0.7783 - val_loss: 0.6707 - val_accuracy: 0.7666\n",
      "Epoch 13/40\n",
      "50000/50000 [==============================] - 12s 247us/sample - loss: 0.5982 - accuracy: 0.7890 - val_loss: 0.6503 - val_accuracy: 0.7757\n",
      "Epoch 14/40\n",
      "50000/50000 [==============================] - 12s 248us/sample - loss: 0.5719 - accuracy: 0.7956 - val_loss: 0.6560 - val_accuracy: 0.7746\n",
      "Epoch 15/40\n",
      "50000/50000 [==============================] - 12s 248us/sample - loss: 0.5467 - accuracy: 0.8065 - val_loss: 0.6416 - val_accuracy: 0.7812\n",
      "Epoch 16/40\n",
      "50000/50000 [==============================] - 12s 249us/sample - loss: 0.5332 - accuracy: 0.8099 - val_loss: 0.6388 - val_accuracy: 0.7808\n",
      "Epoch 17/40\n",
      "50000/50000 [==============================] - 12s 249us/sample - loss: 0.5117 - accuracy: 0.8180 - val_loss: 0.6296 - val_accuracy: 0.7853\n",
      "Epoch 18/40\n",
      "50000/50000 [==============================] - 12s 248us/sample - loss: 0.4962 - accuracy: 0.8247 - val_loss: 0.6308 - val_accuracy: 0.7792\n",
      "Epoch 19/40\n",
      "50000/50000 [==============================] - 12s 248us/sample - loss: 0.4731 - accuracy: 0.8309 - val_loss: 0.6123 - val_accuracy: 0.7911\n",
      "Epoch 20/40\n",
      "50000/50000 [==============================] - 12s 248us/sample - loss: 0.4569 - accuracy: 0.8377 - val_loss: 0.6125 - val_accuracy: 0.7928\n",
      "Epoch 21/40\n",
      "50000/50000 [==============================] - 12s 249us/sample - loss: 0.4436 - accuracy: 0.8410 - val_loss: 0.6290 - val_accuracy: 0.7879\n",
      "Epoch 22/40\n",
      "50000/50000 [==============================] - 12s 248us/sample - loss: 0.4315 - accuracy: 0.8448 - val_loss: 0.6208 - val_accuracy: 0.7933\n",
      "Epoch 23/40\n",
      "50000/50000 [==============================] - 12s 248us/sample - loss: 0.4139 - accuracy: 0.8523 - val_loss: 0.6158 - val_accuracy: 0.7940\n",
      "Epoch 24/40\n",
      "50000/50000 [==============================] - 12s 248us/sample - loss: 0.4034 - accuracy: 0.8544 - val_loss: 0.6161 - val_accuracy: 0.7955\n",
      "Epoch 25/40\n",
      "50000/50000 [==============================] - 12s 248us/sample - loss: 0.3894 - accuracy: 0.8610 - val_loss: 0.6423 - val_accuracy: 0.7878\n",
      "Epoch 26/40\n",
      "50000/50000 [==============================] - 12s 247us/sample - loss: 0.3813 - accuracy: 0.8615 - val_loss: 0.6153 - val_accuracy: 0.7988\n",
      "Epoch 27/40\n",
      "50000/50000 [==============================] - 12s 248us/sample - loss: 0.3724 - accuracy: 0.8650 - val_loss: 0.6115 - val_accuracy: 0.8017\n",
      "Epoch 28/40\n",
      "50000/50000 [==============================] - 12s 248us/sample - loss: 0.3551 - accuracy: 0.8724 - val_loss: 0.6118 - val_accuracy: 0.7971\n",
      "Epoch 29/40\n",
      "50000/50000 [==============================] - 12s 250us/sample - loss: 0.3440 - accuracy: 0.8762 - val_loss: 0.6158 - val_accuracy: 0.8012\n",
      "Epoch 30/40\n",
      "50000/50000 [==============================] - 12s 250us/sample - loss: 0.3360 - accuracy: 0.8792 - val_loss: 0.6160 - val_accuracy: 0.7970\n",
      "Epoch 31/40\n",
      "50000/50000 [==============================] - 13s 250us/sample - loss: 0.3317 - accuracy: 0.8800 - val_loss: 0.6132 - val_accuracy: 0.8005\n",
      "Epoch 32/40\n",
      "50000/50000 [==============================] - 12s 248us/sample - loss: 0.3241 - accuracy: 0.8847 - val_loss: 0.6052 - val_accuracy: 0.8058\n",
      "Epoch 33/40\n",
      "50000/50000 [==============================] - 12s 248us/sample - loss: 0.3132 - accuracy: 0.8859 - val_loss: 0.6188 - val_accuracy: 0.8025\n",
      "Epoch 34/40\n",
      "50000/50000 [==============================] - 12s 248us/sample - loss: 0.3082 - accuracy: 0.8881 - val_loss: 0.6181 - val_accuracy: 0.8022\n",
      "Epoch 35/40\n",
      "50000/50000 [==============================] - 12s 248us/sample - loss: 0.3013 - accuracy: 0.8917 - val_loss: 0.6275 - val_accuracy: 0.8030\n",
      "Epoch 36/40\n",
      "50000/50000 [==============================] - 12s 250us/sample - loss: 0.2891 - accuracy: 0.8955 - val_loss: 0.6249 - val_accuracy: 0.8020\n",
      "Epoch 37/40\n",
      "50000/50000 [==============================] - 12s 249us/sample - loss: 0.2923 - accuracy: 0.8948 - val_loss: 0.6094 - val_accuracy: 0.8045\n",
      "Epoch 38/40\n",
      "50000/50000 [==============================] - 13s 251us/sample - loss: 0.2750 - accuracy: 0.9000 - val_loss: 0.6263 - val_accuracy: 0.8046\n",
      "Epoch 39/40\n",
      "50000/50000 [==============================] - 13s 250us/sample - loss: 0.2772 - accuracy: 0.9006 - val_loss: 0.6230 - val_accuracy: 0.8062\n",
      "Epoch 40/40\n",
      "50000/50000 [==============================] - 12s 249us/sample - loss: 0.2635 - accuracy: 0.9048 - val_loss: 0.6213 - val_accuracy: 0.8061\n"
     ]
    }
   ],
   "source": [
    "# initialize the optimizer and model\n",
    "print(\"[info] Compiling model...\")\n",
    "opt = SGD(lr=0.01, decay=0.01 / 40, momentum=0.9, nesterov=True)\n",
    "model = MiniVGGNet.build(width=32, height=32, depth=3, classes=10)\n",
    "model.compile(loss='categorical_crossentropy', optimizer=opt, metrics=['accuracy'])\n",
    "\n",
    "# train the network\n",
    "print(\"[INFO] training the network...\")\n",
    "H = model.fit(trainX, trainY, validation_data=(testX, testY), batch_size=64, epochs=40, verbose=1)"
   ]
  },
  {
   "cell_type": "code",
   "execution_count": 4,
   "metadata": {},
   "outputs": [
    {
     "name": "stdout",
     "output_type": "stream",
     "text": [
      "[Info] evaluating the network...\n",
      "              precision    recall  f1-score   support\n",
      "\n",
      "    airplane       0.85      0.82      0.83      1000\n",
      "  automobile       0.88      0.91      0.89      1000\n",
      "        bird       0.74      0.70      0.72      1000\n",
      "         cat       0.64      0.67      0.65      1000\n",
      "        deer       0.78      0.78      0.78      1000\n",
      "         dog       0.74      0.69      0.71      1000\n",
      "        frog       0.81      0.88      0.84      1000\n",
      "       horse       0.85      0.85      0.85      1000\n",
      "        ship       0.91      0.89      0.90      1000\n",
      "       truck       0.86      0.88      0.87      1000\n",
      "\n",
      "    accuracy                           0.81     10000\n",
      "   macro avg       0.81      0.81      0.81     10000\n",
      "weighted avg       0.81      0.81      0.81     10000\n",
      "\n"
     ]
    }
   ],
   "source": [
    "# evaluate the network\n",
    "print(\"[Info] evaluating the network...\")\n",
    "predictions = model.predict(testX, batch_size=64)\n",
    "print(classification_report(testY.argmax(axis=1),\n",
    "predictions.argmax(axis=1), target_names=labelNames))"
   ]
  },
  {
   "cell_type": "code",
   "execution_count": 5,
   "metadata": {},
   "outputs": [],
   "source": [
    "# plot the training loss and accuracy\n",
    "plt.style.use(\"ggplot\")\n",
    "plt.figure()\n",
    "plt.plot(np.arange(0, 40), H.history[\"loss\"], label=\"train_loss\")\n",
    "plt.plot(np.arange(0, 40), H.history[\"val_loss\"], label=\"val_loss\")\n",
    "plt.plot(np.arange(0, 40), H.history[\"accuracy\"], label=\"train_acc\")\n",
    "plt.plot(np.arange(0, 40), H.history[\"val_accuracy\"], label=\"val_acc\")\n",
    "plt.title(\"Training Loss and Accuracy on CIFAR-10\")\n",
    "plt.xlabel(\"Epoch #\")\n",
    "plt.ylabel(\"Loss/Accuracy\")\n",
    "plt.legend()\n",
    "plt.savefig(args[\"output\"])"
   ]
  }
 ],
 "metadata": {
  "kernelspec": {
   "display_name": "Python 3",
   "language": "python",
   "name": "python3"
  },
  "language_info": {
   "codemirror_mode": {
    "name": "ipython",
    "version": 3
   },
   "file_extension": ".py",
   "mimetype": "text/x-python",
   "name": "python",
   "nbconvert_exporter": "python",
   "pygments_lexer": "ipython3",
   "version": "3.6.9"
  }
 },
 "nbformat": 4,
 "nbformat_minor": 4
}
